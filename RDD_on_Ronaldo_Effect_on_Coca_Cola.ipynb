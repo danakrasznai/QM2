{
  "nbformat": 4,
  "nbformat_minor": 0,
  "metadata": {
    "colab": {
      "provenance": [],
      "include_colab_link": true
    },
    "kernelspec": {
      "name": "python3",
      "display_name": "Python 3"
    },
    "language_info": {
      "name": "python"
    }
  },
  "cells": [
    {
      "cell_type": "markdown",
      "metadata": {
        "id": "view-in-github",
        "colab_type": "text"
      },
      "source": [
        "<a href=\"https://colab.research.google.com/github/danakrasznai/QM2/blob/main/RDD_on_Ronaldo_Effect_on_Coca_Cola.ipynb\" target=\"_parent\"><img src=\"https://colab.research.google.com/assets/colab-badge.svg\" alt=\"Open In Colab\"/></a>"
      ]
    },
    {
      "cell_type": "code",
      "source": [
        "import pandas as pd\n",
        "import matplotlib.pyplot as plt\n",
        "import statsmodels.api as sm\n",
        "import statsmodels.formula.api as smf"
      ],
      "metadata": {
        "id": "LQyfqLB5VoQW"
      },
      "execution_count": null,
      "outputs": []
    },
    {
      "cell_type": "code",
      "source": [
        "data = pd.read_csv ('multiTimeline-3.csv')\n",
        "data\n"
      ],
      "metadata": {
        "id": "LaaYeUZDtWuA",
        "colab": {
          "base_uri": "https://localhost:8080/",
          "height": 962
        },
        "outputId": "9ffe6566-e885-4479-8a09-8c1e7cac4d46"
      },
      "execution_count": null,
      "outputs": [
        {
          "output_type": "execute_result",
          "data": {
            "text/plain": [
              "           Day   Popularity Index\n",
              "0   2021.06.01                  6\n",
              "1   2021-06-02                  7\n",
              "2   2021-06-03                  8\n",
              "3   2021-06-04                  9\n",
              "4   2021-06-05                  7\n",
              "5   2021-06-06                  8\n",
              "6   2021-06-07                 10\n",
              "7   2021-06-08                  9\n",
              "8   2021-06-09                  9\n",
              "9   2021-06-10                  9\n",
              "10  2021-06-11                  9\n",
              "11  2021-06-12                  8\n",
              "12  2021-06-13                 11\n",
              "13  2021-06-14                  8\n",
              "14  2021-06-15                 42\n",
              "15  2021-06-16                100\n",
              "16  2021-06-17                 51\n",
              "17  2021-06-18                 32\n",
              "18  2021-06-19                 23\n",
              "19  2021-06-20                 19\n",
              "20  2021-06-21                 14\n",
              "21  2021-06-22                 12\n",
              "22  2021-06-23                 12\n",
              "23  2021-06-24                 10\n",
              "24  2021-06-25                 10\n",
              "25  2021-06-26                  9\n",
              "26  2021-06-27                 12\n",
              "27  2021-06-28                  8\n",
              "28  2021-06-29                  7\n",
              "29  2021-06-30                  8"
            ],
            "text/html": [
              "\n",
              "  <div id=\"df-6366e9dd-a3f6-4bc3-a75a-e907374f6157\" class=\"colab-df-container\">\n",
              "    <div>\n",
              "<style scoped>\n",
              "    .dataframe tbody tr th:only-of-type {\n",
              "        vertical-align: middle;\n",
              "    }\n",
              "\n",
              "    .dataframe tbody tr th {\n",
              "        vertical-align: top;\n",
              "    }\n",
              "\n",
              "    .dataframe thead th {\n",
              "        text-align: right;\n",
              "    }\n",
              "</style>\n",
              "<table border=\"1\" class=\"dataframe\">\n",
              "  <thead>\n",
              "    <tr style=\"text-align: right;\">\n",
              "      <th></th>\n",
              "      <th>Day</th>\n",
              "      <th>Popularity Index</th>\n",
              "    </tr>\n",
              "  </thead>\n",
              "  <tbody>\n",
              "    <tr>\n",
              "      <th>0</th>\n",
              "      <td>2021.06.01</td>\n",
              "      <td>6</td>\n",
              "    </tr>\n",
              "    <tr>\n",
              "      <th>1</th>\n",
              "      <td>2021-06-02</td>\n",
              "      <td>7</td>\n",
              "    </tr>\n",
              "    <tr>\n",
              "      <th>2</th>\n",
              "      <td>2021-06-03</td>\n",
              "      <td>8</td>\n",
              "    </tr>\n",
              "    <tr>\n",
              "      <th>3</th>\n",
              "      <td>2021-06-04</td>\n",
              "      <td>9</td>\n",
              "    </tr>\n",
              "    <tr>\n",
              "      <th>4</th>\n",
              "      <td>2021-06-05</td>\n",
              "      <td>7</td>\n",
              "    </tr>\n",
              "    <tr>\n",
              "      <th>5</th>\n",
              "      <td>2021-06-06</td>\n",
              "      <td>8</td>\n",
              "    </tr>\n",
              "    <tr>\n",
              "      <th>6</th>\n",
              "      <td>2021-06-07</td>\n",
              "      <td>10</td>\n",
              "    </tr>\n",
              "    <tr>\n",
              "      <th>7</th>\n",
              "      <td>2021-06-08</td>\n",
              "      <td>9</td>\n",
              "    </tr>\n",
              "    <tr>\n",
              "      <th>8</th>\n",
              "      <td>2021-06-09</td>\n",
              "      <td>9</td>\n",
              "    </tr>\n",
              "    <tr>\n",
              "      <th>9</th>\n",
              "      <td>2021-06-10</td>\n",
              "      <td>9</td>\n",
              "    </tr>\n",
              "    <tr>\n",
              "      <th>10</th>\n",
              "      <td>2021-06-11</td>\n",
              "      <td>9</td>\n",
              "    </tr>\n",
              "    <tr>\n",
              "      <th>11</th>\n",
              "      <td>2021-06-12</td>\n",
              "      <td>8</td>\n",
              "    </tr>\n",
              "    <tr>\n",
              "      <th>12</th>\n",
              "      <td>2021-06-13</td>\n",
              "      <td>11</td>\n",
              "    </tr>\n",
              "    <tr>\n",
              "      <th>13</th>\n",
              "      <td>2021-06-14</td>\n",
              "      <td>8</td>\n",
              "    </tr>\n",
              "    <tr>\n",
              "      <th>14</th>\n",
              "      <td>2021-06-15</td>\n",
              "      <td>42</td>\n",
              "    </tr>\n",
              "    <tr>\n",
              "      <th>15</th>\n",
              "      <td>2021-06-16</td>\n",
              "      <td>100</td>\n",
              "    </tr>\n",
              "    <tr>\n",
              "      <th>16</th>\n",
              "      <td>2021-06-17</td>\n",
              "      <td>51</td>\n",
              "    </tr>\n",
              "    <tr>\n",
              "      <th>17</th>\n",
              "      <td>2021-06-18</td>\n",
              "      <td>32</td>\n",
              "    </tr>\n",
              "    <tr>\n",
              "      <th>18</th>\n",
              "      <td>2021-06-19</td>\n",
              "      <td>23</td>\n",
              "    </tr>\n",
              "    <tr>\n",
              "      <th>19</th>\n",
              "      <td>2021-06-20</td>\n",
              "      <td>19</td>\n",
              "    </tr>\n",
              "    <tr>\n",
              "      <th>20</th>\n",
              "      <td>2021-06-21</td>\n",
              "      <td>14</td>\n",
              "    </tr>\n",
              "    <tr>\n",
              "      <th>21</th>\n",
              "      <td>2021-06-22</td>\n",
              "      <td>12</td>\n",
              "    </tr>\n",
              "    <tr>\n",
              "      <th>22</th>\n",
              "      <td>2021-06-23</td>\n",
              "      <td>12</td>\n",
              "    </tr>\n",
              "    <tr>\n",
              "      <th>23</th>\n",
              "      <td>2021-06-24</td>\n",
              "      <td>10</td>\n",
              "    </tr>\n",
              "    <tr>\n",
              "      <th>24</th>\n",
              "      <td>2021-06-25</td>\n",
              "      <td>10</td>\n",
              "    </tr>\n",
              "    <tr>\n",
              "      <th>25</th>\n",
              "      <td>2021-06-26</td>\n",
              "      <td>9</td>\n",
              "    </tr>\n",
              "    <tr>\n",
              "      <th>26</th>\n",
              "      <td>2021-06-27</td>\n",
              "      <td>12</td>\n",
              "    </tr>\n",
              "    <tr>\n",
              "      <th>27</th>\n",
              "      <td>2021-06-28</td>\n",
              "      <td>8</td>\n",
              "    </tr>\n",
              "    <tr>\n",
              "      <th>28</th>\n",
              "      <td>2021-06-29</td>\n",
              "      <td>7</td>\n",
              "    </tr>\n",
              "    <tr>\n",
              "      <th>29</th>\n",
              "      <td>2021-06-30</td>\n",
              "      <td>8</td>\n",
              "    </tr>\n",
              "  </tbody>\n",
              "</table>\n",
              "</div>\n",
              "    <div class=\"colab-df-buttons\">\n",
              "\n",
              "  <div class=\"colab-df-container\">\n",
              "    <button class=\"colab-df-convert\" onclick=\"convertToInteractive('df-6366e9dd-a3f6-4bc3-a75a-e907374f6157')\"\n",
              "            title=\"Convert this dataframe to an interactive table.\"\n",
              "            style=\"display:none;\">\n",
              "\n",
              "  <svg xmlns=\"http://www.w3.org/2000/svg\" height=\"24px\" viewBox=\"0 -960 960 960\">\n",
              "    <path d=\"M120-120v-720h720v720H120Zm60-500h600v-160H180v160Zm220 220h160v-160H400v160Zm0 220h160v-160H400v160ZM180-400h160v-160H180v160Zm440 0h160v-160H620v160ZM180-180h160v-160H180v160Zm440 0h160v-160H620v160Z\"/>\n",
              "  </svg>\n",
              "    </button>\n",
              "\n",
              "  <style>\n",
              "    .colab-df-container {\n",
              "      display:flex;\n",
              "      gap: 12px;\n",
              "    }\n",
              "\n",
              "    .colab-df-convert {\n",
              "      background-color: #E8F0FE;\n",
              "      border: none;\n",
              "      border-radius: 50%;\n",
              "      cursor: pointer;\n",
              "      display: none;\n",
              "      fill: #1967D2;\n",
              "      height: 32px;\n",
              "      padding: 0 0 0 0;\n",
              "      width: 32px;\n",
              "    }\n",
              "\n",
              "    .colab-df-convert:hover {\n",
              "      background-color: #E2EBFA;\n",
              "      box-shadow: 0px 1px 2px rgba(60, 64, 67, 0.3), 0px 1px 3px 1px rgba(60, 64, 67, 0.15);\n",
              "      fill: #174EA6;\n",
              "    }\n",
              "\n",
              "    .colab-df-buttons div {\n",
              "      margin-bottom: 4px;\n",
              "    }\n",
              "\n",
              "    [theme=dark] .colab-df-convert {\n",
              "      background-color: #3B4455;\n",
              "      fill: #D2E3FC;\n",
              "    }\n",
              "\n",
              "    [theme=dark] .colab-df-convert:hover {\n",
              "      background-color: #434B5C;\n",
              "      box-shadow: 0px 1px 3px 1px rgba(0, 0, 0, 0.15);\n",
              "      filter: drop-shadow(0px 1px 2px rgba(0, 0, 0, 0.3));\n",
              "      fill: #FFFFFF;\n",
              "    }\n",
              "  </style>\n",
              "\n",
              "    <script>\n",
              "      const buttonEl =\n",
              "        document.querySelector('#df-6366e9dd-a3f6-4bc3-a75a-e907374f6157 button.colab-df-convert');\n",
              "      buttonEl.style.display =\n",
              "        google.colab.kernel.accessAllowed ? 'block' : 'none';\n",
              "\n",
              "      async function convertToInteractive(key) {\n",
              "        const element = document.querySelector('#df-6366e9dd-a3f6-4bc3-a75a-e907374f6157');\n",
              "        const dataTable =\n",
              "          await google.colab.kernel.invokeFunction('convertToInteractive',\n",
              "                                                    [key], {});\n",
              "        if (!dataTable) return;\n",
              "\n",
              "        const docLinkHtml = 'Like what you see? Visit the ' +\n",
              "          '<a target=\"_blank\" href=https://colab.research.google.com/notebooks/data_table.ipynb>data table notebook</a>'\n",
              "          + ' to learn more about interactive tables.';\n",
              "        element.innerHTML = '';\n",
              "        dataTable['output_type'] = 'display_data';\n",
              "        await google.colab.output.renderOutput(dataTable, element);\n",
              "        const docLink = document.createElement('div');\n",
              "        docLink.innerHTML = docLinkHtml;\n",
              "        element.appendChild(docLink);\n",
              "      }\n",
              "    </script>\n",
              "  </div>\n",
              "\n",
              "\n",
              "<div id=\"df-06d5f895-7a32-4ced-85cc-ef11dc476095\">\n",
              "  <button class=\"colab-df-quickchart\" onclick=\"quickchart('df-06d5f895-7a32-4ced-85cc-ef11dc476095')\"\n",
              "            title=\"Suggest charts\"\n",
              "            style=\"display:none;\">\n",
              "\n",
              "<svg xmlns=\"http://www.w3.org/2000/svg\" height=\"24px\"viewBox=\"0 0 24 24\"\n",
              "     width=\"24px\">\n",
              "    <g>\n",
              "        <path d=\"M19 3H5c-1.1 0-2 .9-2 2v14c0 1.1.9 2 2 2h14c1.1 0 2-.9 2-2V5c0-1.1-.9-2-2-2zM9 17H7v-7h2v7zm4 0h-2V7h2v10zm4 0h-2v-4h2v4z\"/>\n",
              "    </g>\n",
              "</svg>\n",
              "  </button>\n",
              "\n",
              "<style>\n",
              "  .colab-df-quickchart {\n",
              "      --bg-color: #E8F0FE;\n",
              "      --fill-color: #1967D2;\n",
              "      --hover-bg-color: #E2EBFA;\n",
              "      --hover-fill-color: #174EA6;\n",
              "      --disabled-fill-color: #AAA;\n",
              "      --disabled-bg-color: #DDD;\n",
              "  }\n",
              "\n",
              "  [theme=dark] .colab-df-quickchart {\n",
              "      --bg-color: #3B4455;\n",
              "      --fill-color: #D2E3FC;\n",
              "      --hover-bg-color: #434B5C;\n",
              "      --hover-fill-color: #FFFFFF;\n",
              "      --disabled-bg-color: #3B4455;\n",
              "      --disabled-fill-color: #666;\n",
              "  }\n",
              "\n",
              "  .colab-df-quickchart {\n",
              "    background-color: var(--bg-color);\n",
              "    border: none;\n",
              "    border-radius: 50%;\n",
              "    cursor: pointer;\n",
              "    display: none;\n",
              "    fill: var(--fill-color);\n",
              "    height: 32px;\n",
              "    padding: 0;\n",
              "    width: 32px;\n",
              "  }\n",
              "\n",
              "  .colab-df-quickchart:hover {\n",
              "    background-color: var(--hover-bg-color);\n",
              "    box-shadow: 0 1px 2px rgba(60, 64, 67, 0.3), 0 1px 3px 1px rgba(60, 64, 67, 0.15);\n",
              "    fill: var(--button-hover-fill-color);\n",
              "  }\n",
              "\n",
              "  .colab-df-quickchart-complete:disabled,\n",
              "  .colab-df-quickchart-complete:disabled:hover {\n",
              "    background-color: var(--disabled-bg-color);\n",
              "    fill: var(--disabled-fill-color);\n",
              "    box-shadow: none;\n",
              "  }\n",
              "\n",
              "  .colab-df-spinner {\n",
              "    border: 2px solid var(--fill-color);\n",
              "    border-color: transparent;\n",
              "    border-bottom-color: var(--fill-color);\n",
              "    animation:\n",
              "      spin 1s steps(1) infinite;\n",
              "  }\n",
              "\n",
              "  @keyframes spin {\n",
              "    0% {\n",
              "      border-color: transparent;\n",
              "      border-bottom-color: var(--fill-color);\n",
              "      border-left-color: var(--fill-color);\n",
              "    }\n",
              "    20% {\n",
              "      border-color: transparent;\n",
              "      border-left-color: var(--fill-color);\n",
              "      border-top-color: var(--fill-color);\n",
              "    }\n",
              "    30% {\n",
              "      border-color: transparent;\n",
              "      border-left-color: var(--fill-color);\n",
              "      border-top-color: var(--fill-color);\n",
              "      border-right-color: var(--fill-color);\n",
              "    }\n",
              "    40% {\n",
              "      border-color: transparent;\n",
              "      border-right-color: var(--fill-color);\n",
              "      border-top-color: var(--fill-color);\n",
              "    }\n",
              "    60% {\n",
              "      border-color: transparent;\n",
              "      border-right-color: var(--fill-color);\n",
              "    }\n",
              "    80% {\n",
              "      border-color: transparent;\n",
              "      border-right-color: var(--fill-color);\n",
              "      border-bottom-color: var(--fill-color);\n",
              "    }\n",
              "    90% {\n",
              "      border-color: transparent;\n",
              "      border-bottom-color: var(--fill-color);\n",
              "    }\n",
              "  }\n",
              "</style>\n",
              "\n",
              "  <script>\n",
              "    async function quickchart(key) {\n",
              "      const quickchartButtonEl =\n",
              "        document.querySelector('#' + key + ' button');\n",
              "      quickchartButtonEl.disabled = true;  // To prevent multiple clicks.\n",
              "      quickchartButtonEl.classList.add('colab-df-spinner');\n",
              "      try {\n",
              "        const charts = await google.colab.kernel.invokeFunction(\n",
              "            'suggestCharts', [key], {});\n",
              "      } catch (error) {\n",
              "        console.error('Error during call to suggestCharts:', error);\n",
              "      }\n",
              "      quickchartButtonEl.classList.remove('colab-df-spinner');\n",
              "      quickchartButtonEl.classList.add('colab-df-quickchart-complete');\n",
              "    }\n",
              "    (() => {\n",
              "      let quickchartButtonEl =\n",
              "        document.querySelector('#df-06d5f895-7a32-4ced-85cc-ef11dc476095 button');\n",
              "      quickchartButtonEl.style.display =\n",
              "        google.colab.kernel.accessAllowed ? 'block' : 'none';\n",
              "    })();\n",
              "  </script>\n",
              "</div>\n",
              "    </div>\n",
              "  </div>\n"
            ]
          },
          "metadata": {},
          "execution_count": 5
        }
      ]
    },
    {
      "cell_type": "code",
      "source": [
        "print(data.columns)"
      ],
      "metadata": {
        "id": "5que3olHVXPu",
        "colab": {
          "base_uri": "https://localhost:8080/"
        },
        "outputId": "b7a3a767-a24f-4c43-8bce-0c08970a422b"
      },
      "execution_count": null,
      "outputs": [
        {
          "output_type": "stream",
          "name": "stdout",
          "text": [
            "Index(['Day', ' Popularity Index'], dtype='object')\n"
          ]
        }
      ]
    },
    {
      "cell_type": "code",
      "source": [
        "data['Day'] = pd.to_datetime(data['Day'])\n",
        "\n",
        "data['Day']"
      ],
      "metadata": {
        "colab": {
          "base_uri": "https://localhost:8080/"
        },
        "id": "geyW5haL2zbw",
        "outputId": "edc3476e-3a4e-4b03-d3c2-246100505a5a"
      },
      "execution_count": null,
      "outputs": [
        {
          "output_type": "execute_result",
          "data": {
            "text/plain": [
              "0    2021-06-01\n",
              "1    2021-06-02\n",
              "2    2021-06-03\n",
              "3    2021-06-04\n",
              "4    2021-06-05\n",
              "5    2021-06-06\n",
              "6    2021-06-07\n",
              "7    2021-06-08\n",
              "8    2021-06-09\n",
              "9    2021-06-10\n",
              "10   2021-06-11\n",
              "11   2021-06-12\n",
              "12   2021-06-13\n",
              "13   2021-06-14\n",
              "14   2021-06-15\n",
              "15   2021-06-16\n",
              "16   2021-06-17\n",
              "17   2021-06-18\n",
              "18   2021-06-19\n",
              "19   2021-06-20\n",
              "20   2021-06-21\n",
              "21   2021-06-22\n",
              "22   2021-06-23\n",
              "23   2021-06-24\n",
              "24   2021-06-25\n",
              "25   2021-06-26\n",
              "26   2021-06-27\n",
              "27   2021-06-28\n",
              "28   2021-06-29\n",
              "29   2021-06-30\n",
              "Name: Day, dtype: datetime64[ns]"
            ]
          },
          "metadata": {},
          "execution_count": 7
        }
      ]
    },
    {
      "cell_type": "code",
      "source": [
        "print(data['Day'].dtype)\n"
      ],
      "metadata": {
        "colab": {
          "base_uri": "https://localhost:8080/"
        },
        "id": "9rY-2bIGgxCS",
        "outputId": "716e0466-5089-403b-d634-28840479c399"
      },
      "execution_count": null,
      "outputs": [
        {
          "output_type": "stream",
          "name": "stdout",
          "text": [
            "datetime64[ns]\n"
          ]
        }
      ]
    },
    {
      "cell_type": "code",
      "source": [
        "print(\"Raw Data Sample:\")\n",
        "print(data['Day'].head())\n"
      ],
      "metadata": {
        "colab": {
          "base_uri": "https://localhost:8080/"
        },
        "id": "AkowZocEjdNC",
        "outputId": "b6e3a6ee-c493-46b8-a593-27a4bb681587"
      },
      "execution_count": null,
      "outputs": [
        {
          "output_type": "stream",
          "name": "stdout",
          "text": [
            "Raw Data Sample:\n",
            "0   2021-06-01\n",
            "1   2021-06-02\n",
            "2   2021-06-03\n",
            "3   2021-06-04\n",
            "4   2021-06-05\n",
            "Name: Day, dtype: datetime64[ns]\n"
          ]
        }
      ]
    },
    {
      "cell_type": "code",
      "source": [
        "print(data['Day'].unique())"
      ],
      "metadata": {
        "colab": {
          "base_uri": "https://localhost:8080/"
        },
        "id": "b7GGPHlAhTDR",
        "outputId": "212ace33-1d50-4a33-ee4a-a367c1ec3479"
      },
      "execution_count": null,
      "outputs": [
        {
          "output_type": "stream",
          "name": "stdout",
          "text": [
            "['2021-06-01T00:00:00.000000000' '2021-06-02T00:00:00.000000000'\n",
            " '2021-06-03T00:00:00.000000000' '2021-06-04T00:00:00.000000000'\n",
            " '2021-06-05T00:00:00.000000000' '2021-06-06T00:00:00.000000000'\n",
            " '2021-06-07T00:00:00.000000000' '2021-06-08T00:00:00.000000000'\n",
            " '2021-06-09T00:00:00.000000000' '2021-06-10T00:00:00.000000000'\n",
            " '2021-06-11T00:00:00.000000000' '2021-06-12T00:00:00.000000000'\n",
            " '2021-06-13T00:00:00.000000000' '2021-06-14T00:00:00.000000000'\n",
            " '2021-06-15T00:00:00.000000000' '2021-06-16T00:00:00.000000000'\n",
            " '2021-06-17T00:00:00.000000000' '2021-06-18T00:00:00.000000000'\n",
            " '2021-06-19T00:00:00.000000000' '2021-06-20T00:00:00.000000000'\n",
            " '2021-06-21T00:00:00.000000000' '2021-06-22T00:00:00.000000000'\n",
            " '2021-06-23T00:00:00.000000000' '2021-06-24T00:00:00.000000000'\n",
            " '2021-06-25T00:00:00.000000000' '2021-06-26T00:00:00.000000000'\n",
            " '2021-06-27T00:00:00.000000000' '2021-06-28T00:00:00.000000000'\n",
            " '2021-06-29T00:00:00.000000000' '2021-06-30T00:00:00.000000000']\n"
          ]
        }
      ]
    },
    {
      "cell_type": "code",
      "source": [
        "# Convert 'Day' column to datetime format\n",
        "data['Day'] = pd.to_datetime(data['Day'], format='%Y-%m-%d')\n",
        "\n",
        "# Subtract the minimum date from each date in the column\n",
        "data['time_numeric'] = (data['Day'] - data['Day'].min()).dt.days\n",
        "\n",
        "data['time_numeric']"
      ],
      "metadata": {
        "colab": {
          "base_uri": "https://localhost:8080/"
        },
        "id": "nxkRc65uYTUY",
        "outputId": "9481e006-2e56-4580-a1f3-c8632d8be667"
      },
      "execution_count": null,
      "outputs": [
        {
          "output_type": "execute_result",
          "data": {
            "text/plain": [
              "0      0\n",
              "1      1\n",
              "2      2\n",
              "3      3\n",
              "4      4\n",
              "5      5\n",
              "6      6\n",
              "7      7\n",
              "8      8\n",
              "9      9\n",
              "10    10\n",
              "11    11\n",
              "12    12\n",
              "13    13\n",
              "14    14\n",
              "15    15\n",
              "16    16\n",
              "17    17\n",
              "18    18\n",
              "19    19\n",
              "20    20\n",
              "21    21\n",
              "22    22\n",
              "23    23\n",
              "24    24\n",
              "25    25\n",
              "26    26\n",
              "27    27\n",
              "28    28\n",
              "29    29\n",
              "Name: time_numeric, dtype: int64"
            ]
          },
          "metadata": {},
          "execution_count": 11
        }
      ]
    },
    {
      "cell_type": "code",
      "source": [
        "print(data['Popularity'].dtype)"
      ],
      "metadata": {
        "colab": {
          "base_uri": "https://localhost:8080/",
          "height": 490
        },
        "id": "F8nm1GsJo_L7",
        "outputId": "2ea005be-6266-4435-b193-e1a918019291"
      },
      "execution_count": null,
      "outputs": [
        {
          "output_type": "error",
          "ename": "KeyError",
          "evalue": "ignored",
          "traceback": [
            "\u001b[0;31m---------------------------------------------------------------------------\u001b[0m",
            "\u001b[0;31mKeyError\u001b[0m                                  Traceback (most recent call last)",
            "\u001b[0;32m/usr/local/lib/python3.10/dist-packages/pandas/core/indexes/base.py\u001b[0m in \u001b[0;36mget_loc\u001b[0;34m(self, key, method, tolerance)\u001b[0m\n\u001b[1;32m   3801\u001b[0m             \u001b[0;32mtry\u001b[0m\u001b[0;34m:\u001b[0m\u001b[0;34m\u001b[0m\u001b[0;34m\u001b[0m\u001b[0m\n\u001b[0;32m-> 3802\u001b[0;31m                 \u001b[0;32mreturn\u001b[0m \u001b[0mself\u001b[0m\u001b[0;34m.\u001b[0m\u001b[0m_engine\u001b[0m\u001b[0;34m.\u001b[0m\u001b[0mget_loc\u001b[0m\u001b[0;34m(\u001b[0m\u001b[0mcasted_key\u001b[0m\u001b[0;34m)\u001b[0m\u001b[0;34m\u001b[0m\u001b[0;34m\u001b[0m\u001b[0m\n\u001b[0m\u001b[1;32m   3803\u001b[0m             \u001b[0;32mexcept\u001b[0m \u001b[0mKeyError\u001b[0m \u001b[0;32mas\u001b[0m \u001b[0merr\u001b[0m\u001b[0;34m:\u001b[0m\u001b[0;34m\u001b[0m\u001b[0;34m\u001b[0m\u001b[0m\n",
            "\u001b[0;32m/usr/local/lib/python3.10/dist-packages/pandas/_libs/index.pyx\u001b[0m in \u001b[0;36mpandas._libs.index.IndexEngine.get_loc\u001b[0;34m()\u001b[0m\n",
            "\u001b[0;32m/usr/local/lib/python3.10/dist-packages/pandas/_libs/index.pyx\u001b[0m in \u001b[0;36mpandas._libs.index.IndexEngine.get_loc\u001b[0;34m()\u001b[0m\n",
            "\u001b[0;32mpandas/_libs/hashtable_class_helper.pxi\u001b[0m in \u001b[0;36mpandas._libs.hashtable.PyObjectHashTable.get_item\u001b[0;34m()\u001b[0m\n",
            "\u001b[0;32mpandas/_libs/hashtable_class_helper.pxi\u001b[0m in \u001b[0;36mpandas._libs.hashtable.PyObjectHashTable.get_item\u001b[0;34m()\u001b[0m\n",
            "\u001b[0;31mKeyError\u001b[0m: 'Popularity'",
            "\nThe above exception was the direct cause of the following exception:\n",
            "\u001b[0;31mKeyError\u001b[0m                                  Traceback (most recent call last)",
            "\u001b[0;32m<ipython-input-12-a3ee507b93b6>\u001b[0m in \u001b[0;36m<cell line: 1>\u001b[0;34m()\u001b[0m\n\u001b[0;32m----> 1\u001b[0;31m \u001b[0mprint\u001b[0m\u001b[0;34m(\u001b[0m\u001b[0mdata\u001b[0m\u001b[0;34m[\u001b[0m\u001b[0;34m'Popularity'\u001b[0m\u001b[0;34m]\u001b[0m\u001b[0;34m.\u001b[0m\u001b[0mdtype\u001b[0m\u001b[0;34m)\u001b[0m\u001b[0;34m\u001b[0m\u001b[0;34m\u001b[0m\u001b[0m\n\u001b[0m",
            "\u001b[0;32m/usr/local/lib/python3.10/dist-packages/pandas/core/frame.py\u001b[0m in \u001b[0;36m__getitem__\u001b[0;34m(self, key)\u001b[0m\n\u001b[1;32m   3805\u001b[0m             \u001b[0;32mif\u001b[0m \u001b[0mself\u001b[0m\u001b[0;34m.\u001b[0m\u001b[0mcolumns\u001b[0m\u001b[0;34m.\u001b[0m\u001b[0mnlevels\u001b[0m \u001b[0;34m>\u001b[0m \u001b[0;36m1\u001b[0m\u001b[0;34m:\u001b[0m\u001b[0;34m\u001b[0m\u001b[0;34m\u001b[0m\u001b[0m\n\u001b[1;32m   3806\u001b[0m                 \u001b[0;32mreturn\u001b[0m \u001b[0mself\u001b[0m\u001b[0;34m.\u001b[0m\u001b[0m_getitem_multilevel\u001b[0m\u001b[0;34m(\u001b[0m\u001b[0mkey\u001b[0m\u001b[0;34m)\u001b[0m\u001b[0;34m\u001b[0m\u001b[0;34m\u001b[0m\u001b[0m\n\u001b[0;32m-> 3807\u001b[0;31m             \u001b[0mindexer\u001b[0m \u001b[0;34m=\u001b[0m \u001b[0mself\u001b[0m\u001b[0;34m.\u001b[0m\u001b[0mcolumns\u001b[0m\u001b[0;34m.\u001b[0m\u001b[0mget_loc\u001b[0m\u001b[0;34m(\u001b[0m\u001b[0mkey\u001b[0m\u001b[0;34m)\u001b[0m\u001b[0;34m\u001b[0m\u001b[0;34m\u001b[0m\u001b[0m\n\u001b[0m\u001b[1;32m   3808\u001b[0m             \u001b[0;32mif\u001b[0m \u001b[0mis_integer\u001b[0m\u001b[0;34m(\u001b[0m\u001b[0mindexer\u001b[0m\u001b[0;34m)\u001b[0m\u001b[0;34m:\u001b[0m\u001b[0;34m\u001b[0m\u001b[0;34m\u001b[0m\u001b[0m\n\u001b[1;32m   3809\u001b[0m                 \u001b[0mindexer\u001b[0m \u001b[0;34m=\u001b[0m \u001b[0;34m[\u001b[0m\u001b[0mindexer\u001b[0m\u001b[0;34m]\u001b[0m\u001b[0;34m\u001b[0m\u001b[0;34m\u001b[0m\u001b[0m\n",
            "\u001b[0;32m/usr/local/lib/python3.10/dist-packages/pandas/core/indexes/base.py\u001b[0m in \u001b[0;36mget_loc\u001b[0;34m(self, key, method, tolerance)\u001b[0m\n\u001b[1;32m   3802\u001b[0m                 \u001b[0;32mreturn\u001b[0m \u001b[0mself\u001b[0m\u001b[0;34m.\u001b[0m\u001b[0m_engine\u001b[0m\u001b[0;34m.\u001b[0m\u001b[0mget_loc\u001b[0m\u001b[0;34m(\u001b[0m\u001b[0mcasted_key\u001b[0m\u001b[0;34m)\u001b[0m\u001b[0;34m\u001b[0m\u001b[0;34m\u001b[0m\u001b[0m\n\u001b[1;32m   3803\u001b[0m             \u001b[0;32mexcept\u001b[0m \u001b[0mKeyError\u001b[0m \u001b[0;32mas\u001b[0m \u001b[0merr\u001b[0m\u001b[0;34m:\u001b[0m\u001b[0;34m\u001b[0m\u001b[0;34m\u001b[0m\u001b[0m\n\u001b[0;32m-> 3804\u001b[0;31m                 \u001b[0;32mraise\u001b[0m \u001b[0mKeyError\u001b[0m\u001b[0;34m(\u001b[0m\u001b[0mkey\u001b[0m\u001b[0;34m)\u001b[0m \u001b[0;32mfrom\u001b[0m \u001b[0merr\u001b[0m\u001b[0;34m\u001b[0m\u001b[0;34m\u001b[0m\u001b[0m\n\u001b[0m\u001b[1;32m   3805\u001b[0m             \u001b[0;32mexcept\u001b[0m \u001b[0mTypeError\u001b[0m\u001b[0;34m:\u001b[0m\u001b[0;34m\u001b[0m\u001b[0;34m\u001b[0m\u001b[0m\n\u001b[1;32m   3806\u001b[0m                 \u001b[0;31m# If we have a listlike key, _check_indexing_error will raise\u001b[0m\u001b[0;34m\u001b[0m\u001b[0;34m\u001b[0m\u001b[0m\n",
            "\u001b[0;31mKeyError\u001b[0m: 'Popularity'"
          ]
        }
      ]
    },
    {
      "cell_type": "code",
      "source": [
        "popularity_index = data[' Popularity Index']\n",
        "\n",
        "print(popularity_index)"
      ],
      "metadata": {
        "colab": {
          "base_uri": "https://localhost:8080/"
        },
        "id": "g5d56er5oodz",
        "outputId": "23f42c16-baae-4c45-ba26-d528f2f17ca8"
      },
      "execution_count": null,
      "outputs": [
        {
          "output_type": "stream",
          "name": "stdout",
          "text": [
            "0       6\n",
            "1       7\n",
            "2       8\n",
            "3       9\n",
            "4       7\n",
            "5       8\n",
            "6      10\n",
            "7       9\n",
            "8       9\n",
            "9       9\n",
            "10      9\n",
            "11      8\n",
            "12     11\n",
            "13      8\n",
            "14     42\n",
            "15    100\n",
            "16     51\n",
            "17     32\n",
            "18     23\n",
            "19     19\n",
            "20     14\n",
            "21     12\n",
            "22     12\n",
            "23     10\n",
            "24     10\n",
            "25      9\n",
            "26     12\n",
            "27      8\n",
            "28      7\n",
            "29      8\n",
            "Name:  Popularity Index, dtype: int64\n"
          ]
        }
      ]
    },
    {
      "cell_type": "code",
      "execution_count": null,
      "metadata": {
        "id": "51yTyrNdoOQP",
        "colab": {
          "base_uri": "https://localhost:8080/",
          "height": 1000
        },
        "outputId": "a41ea432-ab47-4a23-9897-2ddbc8f753ae"
      },
      "outputs": [
        {
          "output_type": "stream",
          "name": "stdout",
          "text": [
            "                            OLS Regression Results                            \n",
            "==============================================================================\n",
            "Dep. Variable:       popularity_index   R-squared:                       0.404\n",
            "Model:                            OLS   Adj. R-squared:                  0.360\n",
            "Method:                 Least Squares   F-statistic:                     9.153\n",
            "Date:                Tue, 12 Dec 2023   Prob (F-statistic):           0.000923\n",
            "Time:                        00:26:30   Log-Likelihood:                -122.64\n",
            "No. Observations:                  30   AIC:                             251.3\n",
            "Df Residuals:                      27   BIC:                             255.5\n",
            "Df Model:                           2                                         \n",
            "Covariance Type:            nonrobust                                         \n",
            "================================================================================\n",
            "                   coef    std err          t      P>|t|      [0.025      0.975]\n",
            "--------------------------------------------------------------------------------\n",
            "Intercept       22.4308      5.808      3.862      0.001      10.514      34.347\n",
            "post_event      46.9467     11.074      4.239      0.000      24.224      69.669\n",
            "time_numeric    -2.1542      0.638     -3.375      0.002      -3.464      -0.844\n",
            "==============================================================================\n",
            "Omnibus:                       40.092   Durbin-Watson:                   1.029\n",
            "Prob(Omnibus):                  0.000   Jarque-Bera (JB):              146.127\n",
            "Skew:                           2.714   Prob(JB):                     1.86e-32\n",
            "Kurtosis:                      12.351   Cond. No.                         69.1\n",
            "==============================================================================\n",
            "\n",
            "Notes:\n",
            "[1] Standard Errors assume that the covariance matrix of the errors is correctly specified.\n"
          ]
        },
        {
          "output_type": "stream",
          "name": "stderr",
          "text": [
            "<ipython-input-20-dd8aa62dd98f>:20: SettingWithCopyWarning: \n",
            "A value is trying to be set on a copy of a slice from a DataFrame.\n",
            "Try using .loc[row_indexer,col_indexer] = value instead\n",
            "\n",
            "See the caveats in the documentation: https://pandas.pydata.org/pandas-docs/stable/user_guide/indexing.html#returning-a-view-versus-a-copy\n",
            "  before_event['fitted'] = before_model.fittedvalues\n",
            "<ipython-input-20-dd8aa62dd98f>:21: SettingWithCopyWarning: \n",
            "A value is trying to be set on a copy of a slice from a DataFrame.\n",
            "Try using .loc[row_indexer,col_indexer] = value instead\n",
            "\n",
            "See the caveats in the documentation: https://pandas.pydata.org/pandas-docs/stable/user_guide/indexing.html#returning-a-view-versus-a-copy\n",
            "  after_event['fitted'] = after_model.fittedvalues\n"
          ]
        },
        {
          "output_type": "display_data",
          "data": {
            "text/plain": [
              "<Figure size 1000x600 with 1 Axes>"
            ],
            "image/png": "[encoded data removed]"
          },
          "metadata": {}
        }
      ],
      "source": [
        "cutoff_date = 14\n",
        "\n",
        "# Create a binary variable for pre and post event\n",
        "data['post_event'] = (data['time_numeric'] >= cutoff_date).astype(int)\n",
        "\n",
        "# Running a simple RDD using linear regression\n",
        "model = smf.ols ('popularity_index~ post_event + time_numeric', data=data).fit()\n",
        "\n",
        "# Print the summary of the regression\n",
        "print(model.summary())\n",
        "\n",
        "before_event = data[data['time_numeric'] < cutoff_date]\n",
        "after_event = data[data['time_numeric'] >= cutoff_date]\n",
        "\n",
        "# Fitting linear models to each subset\n",
        "before_model = smf.ols('popularity_index~ post_event + time_numeric', data=data).fit()\n",
        "after_model = smf.ols('popularity_index~ post_event + time_numeric', data=data).fit()\n",
        "\n",
        "# Calculate the fitted values (predicted values) from the models\n",
        "before_event['fitted'] = before_model.fittedvalues\n",
        "after_event['fitted'] = after_model.fittedvalues\n",
        "\n",
        "# For plotting\n",
        "plt.figure(figsize=(10, 6))\n",
        "plt.scatter(data['time_numeric'],  data[' Popularity Index'], color='blue', label='Search Volume')\n",
        "plt.plot(before_event['time_numeric'], before_event['fitted'], color='blue', linestyle='--', label='Trend Before Event')\n",
        "plt.plot(after_event['time_numeric'], after_event['fitted'], color='green', linestyle='--', label='Trend After Event')\n",
        "plt.axvline(x=cutoff_date, color='red', linestyle='--', label='Cutoff Date (Event)')\n",
        "plt.xlabel('Day')\n",
        "plt.ylabel('Popularity Index for Coca-Cola')\n",
        "plt.title('RDD Analysis of Cristiano Ronaldo’s Gesture on Coca Cola Search Volume')\n",
        "plt.legend()\n",
        "plt.show()\n"
      ]
    },
    {
      "cell_type": "markdown",
      "source": [
        "extra slope parameter, use the model class friday, multiply cutoff and running ,m add a polynomial. add squared terms to make them curved\n"
      ],
      "metadata": {
        "id": "ejj-8LlRXM4s"
      }
    },
    {
      "cell_type": "markdown",
      "source": [
        "Dependent Variable: popularity_index is your dependent variable, the one you are trying to explain or predict.\n",
        "Model Coefficients:\n",
        "Intercept (22.4308): This is the expected value of the popularity_index when all independent variables are 0. In the context of your analysis, it's the baseline popularity index before the event, adjusted for the time effect.\n",
        "post_event (46.9467): This coefficient represents the average change in the popularity_index associated with the event (Ronaldo's gesture). It suggests that, on average, the popularity index increased by about 46.95 units after Ronaldo's event, holding the effect of time constant.\n",
        "time_numeric (-2.1542): This coefficient indicates the rate of change in the popularity_index over time. It shows a decreasing trend of about -2.15 units in the popularity index for each unit increase in time.\n",
        "R-squared (0.404): This value indicates that about 40.4% of the variability in the popularity_index is explained by your model. It's a measure of how well the independent variables are explaining the variation in your dependent variable.\n",
        "Adjusted R-squared (0.360): This is a modified version of R-squared that adjusts for the number of predictors in the model. It's more reliable for comparing models with a different number of independent variables.\n",
        "F-statistic (9.153) and Prob (F-statistic) (0.000923): The F-statistic tests the overall significance of the model. A low Prob (F-statistic) (here, less than 0.05) suggests that your model is statistically significant, i.e., it is better at explaining the variation in the dependent variable than a model with no independent variables.\n",
        "P>|t|: The p-values for individual coefficients (for Intercept, post_event, time_numeric). P-values less than 0.05 (as in your case) suggest that the coefficients are statistically significant.\n",
        "95% Confidence Interval ([0.025, 0.975]): This provides a range within which we can be 95% confident that the true coefficient lies. For post_event, it's between 24.224 and 69.669, indicating a high level of confidence in the effect of the event.\n",
        "Diagnostics (Omnibus, Skew, Kurtosis, Durbin-Watson, Jarque-Bera): These are various tests for the assumptions of the regression model (like normality of residuals, autocorrelation). For instance, the Durbin-Watson statistic is close to 2, suggesting no major issues with autocorrelation.\n"
      ],
      "metadata": {
        "id": "Bu-B3zGeJkAP"
      }
    },
    {
      "cell_type": "code",
      "source": [
        "cutoff_date = 14\n",
        "\n",
        "# Create a binary variable for pre and post event\n",
        "data['post_event'] = (data['time_numeric'] >= cutoff_date).astype(int)\n",
        "\n",
        "# Running a simple RDD using linear regression\n",
        "model = smf.ols ('popularity_index~ post_event + time_numeric', data=data).fit()\n",
        "\n",
        "# Print the summary of the regression\n",
        "print(model.summary())\n",
        "\n",
        "\n",
        "# For plotting\n",
        "plt.figure(figsize=(10, 6))\n",
        "plt.scatter(data['time_numeric'],  data[' Popularity Index'], color='blue', label='Search Volume')\n",
        "plt.axvline(x=cutoff_date, color='red', linestyle='--', label='Cutoff Date (Event)')\n",
        "plt.xlabel('Day')\n",
        "plt.ylabel('Popularity Index for Coca-Cola')\n",
        "plt.title('RDD Analysis of Cristiano Ronaldo’s Gesture on Coca Cola Search Volume')\n",
        "plt.legend()\n",
        "plt.show()"
      ],
      "metadata": {
        "colab": {
          "base_uri": "https://localhost:8080/",
          "height": 991
        },
        "id": "yZvKumdGbMEw",
        "outputId": "93dc8a7d-05ee-47ac-da11-b6627c66b96f"
      },
      "execution_count": null,
      "outputs": [
        {
          "output_type": "stream",
          "name": "stdout",
          "text": [
            "                            OLS Regression Results                            \n",
            "==============================================================================\n",
            "Dep. Variable:       popularity_index   R-squared:                       0.404\n",
            "Model:                            OLS   Adj. R-squared:                  0.360\n",
            "Method:                 Least Squares   F-statistic:                     9.153\n",
            "Date:                Tue, 12 Dec 2023   Prob (F-statistic):           0.000923\n",
            "Time:                        00:28:48   Log-Likelihood:                -122.64\n",
            "No. Observations:                  30   AIC:                             251.3\n",
            "Df Residuals:                      27   BIC:                             255.5\n",
            "Df Model:                           2                                         \n",
            "Covariance Type:            nonrobust                                         \n",
            "================================================================================\n",
            "                   coef    std err          t      P>|t|      [0.025      0.975]\n",
            "--------------------------------------------------------------------------------\n",
            "Intercept       22.4308      5.808      3.862      0.001      10.514      34.347\n",
            "post_event      46.9467     11.074      4.239      0.000      24.224      69.669\n",
            "time_numeric    -2.1542      0.638     -3.375      0.002      -3.464      -0.844\n",
            "==============================================================================\n",
            "Omnibus:                       40.092   Durbin-Watson:                   1.029\n",
            "Prob(Omnibus):                  0.000   Jarque-Bera (JB):              146.127\n",
            "Skew:                           2.714   Prob(JB):                     1.86e-32\n",
            "Kurtosis:                      12.351   Cond. No.                         69.1\n",
            "==============================================================================\n",
            "\n",
            "Notes:\n",
            "[1] Standard Errors assume that the covariance matrix of the errors is correctly specified.\n"
          ]
        },
        {
          "output_type": "display_data",
          "data": {
            "text/plain": [
              "<Figure size 1000x600 with 1 Axes>"
            ],
            "image/png": "[encoded data removed]"
          },
          "metadata": {}
        }
      ]
    }
  ]
}